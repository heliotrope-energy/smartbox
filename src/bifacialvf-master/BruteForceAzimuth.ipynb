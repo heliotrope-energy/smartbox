{
 "cells": [
  {
   "cell_type": "code",
   "execution_count": 3,
   "metadata": {},
   "outputs": [
    {
     "data": {
      "text/plain": [
       "u'/Users/eleonorakiziv/Desktop/bifacialvf-master/bifacialvf'"
      ]
     },
     "execution_count": 3,
     "metadata": {},
     "output_type": "execute_result"
    }
   ],
   "source": [
    "# This notebook note produces graphs that shows, keeping everything else constant, how the front and back irradiances\n",
    "# are affected by the changes in the azimuth angle specified.  \n",
    "\n",
    "# Based on this http://www.renewable-energy-concepts.com/solarenergy/solar-basics/orientation-azimuth-angle.html, \n",
    "# in the northern hemisphere the optimum orientation for a PV module is true south (Azimuth 180° (in Europe 0°)). \n",
    "# However, PV modules can face up to 45º east or west of true south without significantly decreasing their performance. \n",
    "# in this case I chose the following range (135, 225). However, do the graphs make sense??? 180° seems to be yielding \n",
    "# the min irradiance, although it was supposed to be optimal. Maybe I did something wrong while generating the data?  \n",
    "\n",
    "import bifacialvf    \n",
    "import os\n",
    "# change directory to \\bifacialvf\\ root\n",
    "os.chdir(os.path.dirname(bifacialvf.__file__))\n",
    "%pwd"
   ]
  },
  {
   "cell_type": "code",
   "execution_count": 8,
   "metadata": {},
   "outputs": [
    {
     "name": "stdout",
     "output_type": "stream",
     "text": [
      " \n",
      "********* \n",
      "Running Simulation for TMY3:  data/724010TYA.csv\n",
      "Location:   \"RICHMOND INTERNATIONAL AP\"\n",
      "Lat:  37.517  Long:  -77.317  Tz  -5.0\n",
      "Parameters: beta:  10   Sazm:  135   Height:  1   rtr separation:  1.5   Row type:  interior   Albedo:  0.62\n",
      "Saving into data/Output/azimuthcalc135\n",
      " \n",
      " \n",
      "Distance between rows for no shading on Dec 21 at 9 am solar time =  0.611117440909\n",
      "Actual distance between rows =  0.515192246988\n",
      " \n",
      "Finished\n"
     ]
    }
   ],
   "source": [
    "# This part is responsible for generating the data. \n",
    "\n",
    "beta = 10\n",
    "C = 1                      # GroundClearance(panel slope lengths)\n",
    "rtr = 1.5                  # row to row spacing in panel lengths. \n",
    "GCR = 1.0/rtr              # Ground Cover Ratio\n",
    "\n",
    "TMYtoread = \"data/724010TYA.csv\"   # VA Richmond\n",
    "\n",
    "# Set optional variables.  These are the default values\n",
    "rowType = \"interior\"        # RowType(first interior last single)\n",
    "transFactor = 0.013         # TransmissionFactor(open area fraction)\n",
    "cellRows = 6                # CellRows(# hor rows in panel)   This is the number of irradiance values returned along module chord\n",
    "PVfrontSurface = \"glass\"    # PVfrontSurface(glass or ARglass)\n",
    "PVbackSurface = \"glass\"     # PVbackSurface(glass or ARglass)\n",
    "albedo = 0.62               # ground albedo beneath system\n",
    "\n",
    "# 1-axis tracking instructions (optional)\n",
    "tracking=False\n",
    "backtrack=True       # backtracking optimization as defined in pvlib\n",
    "\n",
    "sazm = 135                  # PV Azimuth(deg)\n",
    "\n",
    "while sazm < 226: \n",
    "    writefiletitle = \"data/Output/azimuthcalc\" + str(sazm) \n",
    "    bifacialvf.simulate(TMYtoread, writefiletitle, beta, sazm, \n",
    "                C=C, rtr=rtr, rowType=rowType, transFactor=transFactor, cellRows=cellRows,\n",
    "                PVfrontSurface=PVfrontSurface, PVbackSurface=PVbackSurface, albedo=albedo, \n",
    "                tracking=tracking, backtrack=backtrack, )\n",
    "    sazm = sazm+1"
   ]
  },
  {
   "cell_type": "code",
   "execution_count": 9,
   "metadata": {},
   "outputs": [
    {
     "name": "stdout",
     "output_type": "stream",
     "text": [
      "The bifacial ratio for azimuth angle 135 is: 17.7%\n",
      "The bifacial ratio for azimuth angle 136 is: 17.6%\n",
      "The bifacial ratio for azimuth angle 137 is: 17.5%\n",
      "The bifacial ratio for azimuth angle 138 is: 17.5%\n",
      "The bifacial ratio for azimuth angle 139 is: 17.4%\n",
      "The bifacial ratio for azimuth angle 140 is: 17.4%\n",
      "The bifacial ratio for azimuth angle 141 is: 17.3%\n",
      "The bifacial ratio for azimuth angle 142 is: 17.3%\n",
      "The bifacial ratio for azimuth angle 143 is: 17.2%\n",
      "The bifacial ratio for azimuth angle 144 is: 17.2%\n",
      "The bifacial ratio for azimuth angle 145 is: 17.1%\n",
      "The bifacial ratio for azimuth angle 146 is: 17.1%\n",
      "The bifacial ratio for azimuth angle 147 is: 17.1%\n",
      "The bifacial ratio for azimuth angle 148 is: 17.0%\n",
      "The bifacial ratio for azimuth angle 149 is: 17.0%\n",
      "The bifacial ratio for azimuth angle 150 is: 16.9%\n",
      "The bifacial ratio for azimuth angle 151 is: 16.9%\n",
      "The bifacial ratio for azimuth angle 152 is: 16.8%\n",
      "The bifacial ratio for azimuth angle 153 is: 16.8%\n",
      "The bifacial ratio for azimuth angle 154 is: 16.8%\n",
      "The bifacial ratio for azimuth angle 155 is: 16.7%\n",
      "The bifacial ratio for azimuth angle 156 is: 16.7%\n",
      "The bifacial ratio for azimuth angle 157 is: 16.7%\n",
      "The bifacial ratio for azimuth angle 158 is: 16.6%\n",
      "The bifacial ratio for azimuth angle 159 is: 16.6%\n",
      "The bifacial ratio for azimuth angle 160 is: 16.6%\n",
      "The bifacial ratio for azimuth angle 161 is: 16.5%\n",
      "The bifacial ratio for azimuth angle 162 is: 16.5%\n",
      "The bifacial ratio for azimuth angle 163 is: 16.5%\n",
      "The bifacial ratio for azimuth angle 164 is: 16.5%\n",
      "The bifacial ratio for azimuth angle 165 is: 16.4%\n",
      "The bifacial ratio for azimuth angle 166 is: 16.4%\n",
      "The bifacial ratio for azimuth angle 167 is: 16.4%\n",
      "The bifacial ratio for azimuth angle 168 is: 16.4%\n",
      "The bifacial ratio for azimuth angle 169 is: 16.4%\n",
      "The bifacial ratio for azimuth angle 170 is: 16.3%\n",
      "The bifacial ratio for azimuth angle 171 is: 16.3%\n",
      "The bifacial ratio for azimuth angle 172 is: 16.3%\n",
      "The bifacial ratio for azimuth angle 173 is: 16.3%\n",
      "The bifacial ratio for azimuth angle 174 is: 16.3%\n",
      "The bifacial ratio for azimuth angle 175 is: 16.3%\n",
      "The bifacial ratio for azimuth angle 176 is: 16.3%\n",
      "The bifacial ratio for azimuth angle 177 is: 16.3%\n",
      "The bifacial ratio for azimuth angle 178 is: 16.3%\n",
      "The bifacial ratio for azimuth angle 179 is: 16.3%\n",
      "The bifacial ratio for azimuth angle 180 is: 16.3%\n",
      "The bifacial ratio for azimuth angle 181 is: 16.3%\n",
      "The bifacial ratio for azimuth angle 182 is: 16.3%\n",
      "The bifacial ratio for azimuth angle 183 is: 16.3%\n",
      "The bifacial ratio for azimuth angle 184 is: 16.3%\n",
      "The bifacial ratio for azimuth angle 185 is: 16.3%\n",
      "The bifacial ratio for azimuth angle 186 is: 16.3%\n",
      "The bifacial ratio for azimuth angle 187 is: 16.3%\n",
      "The bifacial ratio for azimuth angle 188 is: 16.3%\n",
      "The bifacial ratio for azimuth angle 189 is: 16.3%\n",
      "The bifacial ratio for azimuth angle 190 is: 16.3%\n",
      "The bifacial ratio for azimuth angle 191 is: 16.4%\n",
      "The bifacial ratio for azimuth angle 192 is: 16.4%\n",
      "The bifacial ratio for azimuth angle 193 is: 16.4%\n",
      "The bifacial ratio for azimuth angle 194 is: 16.4%\n",
      "The bifacial ratio for azimuth angle 195 is: 16.5%\n",
      "The bifacial ratio for azimuth angle 196 is: 16.5%\n",
      "The bifacial ratio for azimuth angle 197 is: 16.5%\n",
      "The bifacial ratio for azimuth angle 198 is: 16.5%\n",
      "The bifacial ratio for azimuth angle 199 is: 16.6%\n",
      "The bifacial ratio for azimuth angle 200 is: 16.6%\n",
      "The bifacial ratio for azimuth angle 201 is: 16.6%\n",
      "The bifacial ratio for azimuth angle 202 is: 16.7%\n",
      "The bifacial ratio for azimuth angle 203 is: 16.7%\n",
      "The bifacial ratio for azimuth angle 204 is: 16.7%\n",
      "The bifacial ratio for azimuth angle 205 is: 16.8%\n",
      "The bifacial ratio for azimuth angle 206 is: 16.8%\n",
      "The bifacial ratio for azimuth angle 207 is: 16.8%\n",
      "The bifacial ratio for azimuth angle 208 is: 16.9%\n",
      "The bifacial ratio for azimuth angle 209 is: 16.9%\n",
      "The bifacial ratio for azimuth angle 210 is: 16.9%\n",
      "The bifacial ratio for azimuth angle 211 is: 17.0%\n",
      "The bifacial ratio for azimuth angle 212 is: 17.0%\n",
      "The bifacial ratio for azimuth angle 213 is: 17.1%\n",
      "The bifacial ratio for azimuth angle 214 is: 17.1%\n",
      "The bifacial ratio for azimuth angle 215 is: 17.2%\n",
      "The bifacial ratio for azimuth angle 216 is: 17.2%\n",
      "The bifacial ratio for azimuth angle 217 is: 17.3%\n",
      "The bifacial ratio for azimuth angle 218 is: 17.3%\n",
      "The bifacial ratio for azimuth angle 219 is: 17.4%\n",
      "The bifacial ratio for azimuth angle 220 is: 17.4%\n",
      "The bifacial ratio for azimuth angle 221 is: 17.5%\n",
      "The bifacial ratio for azimuth angle 222 is: 17.5%\n",
      "The bifacial ratio for azimuth angle 223 is: 17.6%\n",
      "The bifacial ratio for azimuth angle 224 is: 17.7%\n",
      "The bifacial ratio for azimuth angle 225 is: 17.7%\n"
     ]
    },
    {
     "data": {
      "text/plain": [
       "[<matplotlib.lines.Line2D at 0x1144a6610>]"
      ]
     },
     "execution_count": 9,
     "metadata": {},
     "output_type": "execute_result"
    },
    {
     "data": {
      "image/png": "[encoded data removed]",
      "text/plain": [
       "<matplotlib.figure.Figure at 0x108095350>"
      ]
     },
     "metadata": {},
     "output_type": "display_data"
    },
    {
     "data": {
      "image/png": "[encoded data removed]",
      "text/plain": [
       "<matplotlib.figure.Figure at 0x1144a65d0>"
      ]
     },
     "metadata": {},
     "output_type": "display_data"
    }
   ],
   "source": [
    "# This part is responsible for interpreting the data. \n",
    "\n",
    "from loadVFresults import loadVFresults\n",
    "irradiance = {};\n",
    "backIrr = {};\n",
    "frontIrr = {}; \n",
    "\n",
    "\n",
    "for x in xrange (135, 226):\n",
    "    (data, metadata) = loadVFresults(\"data/Output/AzimuthAngles/azimuthcalc\" + str(x))\n",
    "\n",
    "    # calculate average front and back global tilted irradiance across the module chord\n",
    "    data['GTIFrontavg'] = data[['No_1_RowFrontGTI', 'No_2_RowFrontGTI','No_3_RowFrontGTI','No_4_RowFrontGTI','No_5_RowFrontGTI','No_6_RowFrontGTI']].mean(axis=1)\n",
    "    data['GTIBackavg'] = data[['No_1_RowBackGTI', 'No_2_RowBackGTI','No_3_RowBackGTI','No_4_RowBackGTI','No_5_RowBackGTI','No_6_RowBackGTI']].mean(axis=1)\n",
    "\n",
    "    # Print the annual bifacial ratio\n",
    "    frontIrrSum = data['GTIFrontavg'].sum()\n",
    "    backIrrSum = data['GTIBackavg'].sum()\n",
    "    percentage = backIrrSum/frontIrrSum*100\n",
    "    print('The bifacial ratio for azimuth angle {} is: {:.1f}%'.format(x, percentage))\n",
    "    \n",
    "    irradiance[x] = percentage\n",
    "    backIrr[x] = data['GTIBackavg'].mean()\n",
    "    frontIrr[x] = data['GTIFrontavg'].mean()\n",
    "    \n",
    "import matplotlib.pyplot as plt\n",
    "import pandas as pd\n",
    "%matplotlib inline\n",
    "\n",
    "# This is how the front and back irradiances are affected by different values of azimuth angles\n",
    "fig, ax = plt.subplots()\n",
    "ax.set_title('Effect of different values of Azimuth Angles on Back (Green) and Front (Blue) Irradiances')\n",
    "plt.xlim(130, 225)\n",
    "ax1 = ax.twinx()\n",
    "ax.set_xlabel(\"Azimuth Angle, sazm\")\n",
    "ax1.set_ylabel(\"Back Irradiance\")\n",
    "ax.set_ylabel(\"Front Irradiance\")\n",
    "ax.plot(list(irradiance.keys()), frontIrr.values(), 'b', alpha = 0.5)\n",
    "ax1.plot(list(irradiance.keys()), backIrr.values(), 'g', alpha = 0.5)\n",
    "\n",
    "\n",
    "# This is how bifacial ratio is affected by difference azimuth angles \n",
    "fig2, ax2 = plt.subplots()\n",
    "ax.set_title('Effect of different values of Azimuth on bifacial ratio')\n",
    "plt.xlim(130, 225)\n",
    "ax2.set_xlabel(\"Azimuth angle, sazm\")\n",
    "ax2.set_ylabel(\"Irradiance\")\n",
    "ax2.plot(list(irradiance.keys()), irradiance.values(), 'r', alpha = 0.5)\n",
    "\n",
    "\n"
   ]
  },
  {
   "cell_type": "code",
   "execution_count": null,
   "metadata": {},
   "outputs": [],
   "source": []
  }
 ],
 "metadata": {
  "kernelspec": {
   "display_name": "Python 2",
   "language": "python",
   "name": "python2"
  },
  "language_info": {
   "codemirror_mode": {
    "name": "ipython",
    "version": 2
   },
   "file_extension": ".py",
   "mimetype": "text/x-python",
   "name": "python",
   "nbconvert_exporter": "python",
   "pygments_lexer": "ipython2",
   "version": "2.7.14"
  }
 },
 "nbformat": 4,
 "nbformat_minor": 2
}

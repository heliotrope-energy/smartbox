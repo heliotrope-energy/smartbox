{
 "cells": [
  {
   "cell_type": "code",
   "execution_count": null,
   "metadata": {},
   "outputs": [],
   "source": [
    "from loadVFresults import loadVFresults\n",
    "irradiance = {};\n",
    "backIrr = {};\n",
    "frontIrr = {}; \n",
    "\n",
    "\n",
    "for x in xrange (135, 225):\n",
    "    (data, metadata) = loadVFresults(\"data/Output/azimuthcalc\" + str(x))\n",
    "\n",
    "    # calculate average front and back global tilted irradiance across the module chord\n",
    "    data['GTIFrontavg'] = data[['No_1_RowFrontGTI', 'No_2_RowFrontGTI','No_3_RowFrontGTI','No_4_RowFrontGTI','No_5_RowFrontGTI','No_6_RowFrontGTI']].mean(axis=1)\n",
    "    data['GTIBackavg'] = data[['No_1_RowBackGTI', 'No_2_RowBackGTI','No_3_RowBackGTI','No_4_RowBackGTI','No_5_RowBackGTI','No_6_RowBackGTI']].mean(axis=1)\n",
    "\n",
    "    # Print the annual bifacial ratio\n",
    "    frontIrrSum = data['GTIFrontavg'].sum()\n",
    "    backIrrSum = data['GTIBackavg'].sum()\n",
    "    percentage = backIrrSum/frontIrrSum*100\n",
    "    print('The bifacial ratio for azimuth {} is: {:.1f}%'.format(x, percentage))\n",
    "    \n",
    "    irradiance[x] = percentage\n",
    "    backIrr[x] = data['GTIBackavg'].mean()\n",
    "    frontIrr[x] = data['GTIFrontavg'].mean()\n",
    "    \n",
    "import matplotlib.pyplot as plt\n",
    "import pandas as pd\n",
    "%matplotlib inline\n",
    "\n",
    "# This is how the front and back irradiances are affected by different azimuth angles \n",
    "fig, ax = plt.subplots()\n",
    "ax1 = ax.twinx()\n",
    "ax.set_xlabel(\"Azimuth, beta\")\n",
    "ax1.set_ylabel(\"Back Irradiance\")\n",
    "ax.set_ylabel(\"Front Irradiance\")\n",
    "ax.plot(list(irradiance.keys()), frontIrr.values(), 'b', alpha = 0.5)\n",
    "ax1.plot(list(irradiance.keys()), backIrr.values(), 'g', alpha = 0.5)\n",
    "\n",
    "# This is back/front percentage affected by  different azimuth angles \n",
    "fig2, ax2 = plt.subplots()\n",
    "ax2.set_xlabel(\"Tilt, beta\")\n",
    "ax2.set_ylabel(\"Irradiance\")\n",
    "ax2.plot(list(irradiance.keys()), irradiance.values(), 'r', alpha = 0.5)"
   ]
  }
 ],
 "metadata": {
  "kernelspec": {
   "display_name": "Python 2",
   "language": "python",
   "name": "python2"
  },
  "language_info": {
   "codemirror_mode": {
    "name": "ipython",
    "version": 2
   },
   "file_extension": ".py",
   "mimetype": "text/x-python",
   "name": "python",
   "nbconvert_exporter": "python",
   "pygments_lexer": "ipython2",
   "version": "2.7.14"
  }
 },
 "nbformat": 4,
 "nbformat_minor": 2
}
